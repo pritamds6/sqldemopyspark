{
  "nbformat": 4,
  "nbformat_minor": 0,
  "metadata": {
    "colab": {
      "provenance": [],
      "authorship_tag": "ABX9TyOumpwA6oLhQsMY+ua+8sZS"
    },
    "kernelspec": {
      "name": "python3",
      "display_name": "Python 3"
    },
    "language_info": {
      "name": "python"
    }
  },
  "cells": [
    {
      "cell_type": "markdown",
      "source": [
        "LeetCode #595 Big Countries"
      ],
      "metadata": {
        "id": "RTe2f9slBKhP"
      }
    },
    {
      "cell_type": "code",
      "source": [
        "!pip install pyspark\n",
        "import pyspark"
      ],
      "metadata": {
        "colab": {
          "base_uri": "https://localhost:8080/"
        },
        "id": "xqh5KBfe6jRN",
        "outputId": "5346fcdb-3b84-4a09-bd6c-8f658374eb40"
      },
      "execution_count": 5,
      "outputs": [
        {
          "output_type": "stream",
          "name": "stdout",
          "text": [
            "Requirement already satisfied: pyspark in /usr/local/lib/python3.10/dist-packages (3.5.1)\n",
            "Requirement already satisfied: py4j==0.10.9.7 in /usr/local/lib/python3.10/dist-packages (from pyspark) (0.10.9.7)\n"
          ]
        }
      ]
    },
    {
      "cell_type": "code",
      "source": [
        "from pyspark.sql import SparkSession\n",
        "spark = SparkSession.builder.appName(\"My Test\").getOrCreate()"
      ],
      "metadata": {
        "id": "qML4L3VT66e9"
      },
      "execution_count": 17,
      "outputs": []
    },
    {
      "cell_type": "code",
      "execution_count": 20,
      "metadata": {
        "id": "QwAUb2wL5_5T"
      },
      "outputs": [],
      "source": [
        "\n",
        "a_schema=[\"name\",\"continent\",\"area\",\"population\",\"gdp\"]\n",
        "a_data=[\n",
        "    (\"Afghanistan\", \"Asia\", 652230, 25500100, 20343000000),\n",
        "    (\"Albania\", \"Europe\", 28748, 2831741, 12960000000),\n",
        "    (\"Algeria\", \"Africa\", 2381741, 37100000, 188681000000),\n",
        "    (\"Andorra\", \"Europe\", 468, 78115, 3712000000),\n",
        "    (\"Angola\", \"Africa\", 1246700, 20609294, 100990000000)\n",
        "]\n"
      ]
    },
    {
      "cell_type": "code",
      "source": [
        "df=spark.createDataFrame(schema=a_schema,data=a_data)\n",
        "df"
      ],
      "metadata": {
        "colab": {
          "base_uri": "https://localhost:8080/"
        },
        "id": "UCQprlNx7aMP",
        "outputId": "13114d9d-780a-417e-d845-5a099ed286f6"
      },
      "execution_count": 21,
      "outputs": [
        {
          "output_type": "execute_result",
          "data": {
            "text/plain": [
              "DataFrame[name: string, continent: string, area: bigint, population: bigint, gdp: bigint]"
            ]
          },
          "metadata": {},
          "execution_count": 21
        }
      ]
    },
    {
      "cell_type": "code",
      "source": [
        "display(df)\n",
        "df.show()"
      ],
      "metadata": {
        "colab": {
          "base_uri": "https://localhost:8080/",
          "height": 208
        },
        "id": "_vKJnvmI-fkJ",
        "outputId": "f408fba4-4eaa-4fae-8fc0-0175cd7b2bd1"
      },
      "execution_count": 23,
      "outputs": [
        {
          "output_type": "display_data",
          "data": {
            "text/plain": [
              "DataFrame[name: string, continent: string, area: bigint, population: bigint, gdp: bigint]"
            ]
          },
          "metadata": {}
        },
        {
          "output_type": "stream",
          "name": "stdout",
          "text": [
            "+-----------+---------+-------+----------+------------+\n",
            "|       name|continent|   area|population|         gdp|\n",
            "+-----------+---------+-------+----------+------------+\n",
            "|Afghanistan|     Asia| 652230|  25500100| 20343000000|\n",
            "|    Albania|   Europe|  28748|   2831741| 12960000000|\n",
            "|    Algeria|   Africa|2381741|  37100000|188681000000|\n",
            "|    Andorra|   Europe|    468|     78115|  3712000000|\n",
            "|     Angola|   Africa|1246700|  20609294|100990000000|\n",
            "+-----------+---------+-------+----------+------------+\n",
            "\n"
          ]
        }
      ]
    },
    {
      "cell_type": "markdown",
      "source": [],
      "metadata": {
        "id": "8DYrz-MYBCFC"
      }
    },
    {
      "cell_type": "code",
      "source": [
        "# Register the DataFrame as a temporary view\n",
        "df.createOrReplaceTempView(\"World\")\n",
        "#SQL\n",
        "result = spark.sql(\"SELECT name, population,area FROM World WHERE population >= 25000000 OR area>=3000000 \")\n",
        "result.show()"
      ],
      "metadata": {
        "colab": {
          "base_uri": "https://localhost:8080/"
        },
        "id": "EP3OEZ6K_L9D",
        "outputId": "7d11d96f-d390-460c-e553-5eb1eb75faad"
      },
      "execution_count": 28,
      "outputs": [
        {
          "output_type": "stream",
          "name": "stdout",
          "text": [
            "+-----------+----------+-------+\n",
            "|       name|population|   area|\n",
            "+-----------+----------+-------+\n",
            "|Afghanistan|  25500100| 652230|\n",
            "|    Algeria|  37100000|2381741|\n",
            "+-----------+----------+-------+\n",
            "\n"
          ]
        }
      ]
    }
  ]
}